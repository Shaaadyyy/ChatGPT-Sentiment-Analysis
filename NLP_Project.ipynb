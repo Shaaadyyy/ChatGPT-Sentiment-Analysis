{
  "nbformat": 4,
  "nbformat_minor": 0,
  "metadata": {
    "colab": {
      "provenance": [],
      "gpuType": "T4"
    },
    "kernelspec": {
      "name": "python3",
      "display_name": "Python 3"
    },
    "language_info": {
      "name": "python"
    },
    "accelerator": "GPU",
    "gpuClass": "standard"
  },
  "cells": [
    {
      "cell_type": "code",
      "execution_count": 3,
      "metadata": {
        "id": "6zTDkYlKOyx8",
        "colab": {
          "base_uri": "https://localhost:8080/"
        },
        "outputId": "dd45177e-dec0-474d-9bec-257ffc4903ac"
      },
      "outputs": [
        {
          "output_type": "stream",
          "name": "stdout",
          "text": [
            "Drive already mounted at /content/drive; to attempt to forcibly remount, call drive.mount(\"/content/drive\", force_remount=True).\n"
          ]
        },
        {
          "output_type": "stream",
          "name": "stderr",
          "text": [
            "[nltk_data] Downloading package punkt to /root/nltk_data...\n",
            "[nltk_data]   Package punkt is already up-to-date!\n",
            "[nltk_data] Downloading package stopwords to /root/nltk_data...\n",
            "[nltk_data]   Package stopwords is already up-to-date!\n",
            "[nltk_data] Downloading package wordnet to /root/nltk_data...\n",
            "[nltk_data]   Package wordnet is already up-to-date!\n"
          ]
        },
        {
          "output_type": "execute_result",
          "data": {
            "text/plain": [
              "True"
            ]
          },
          "metadata": {},
          "execution_count": 3
        }
      ],
      "source": [
        "from keras.preprocessing.text import Tokenizer\n",
        "from tensorflow.keras.preprocessing.sequence import pad_sequences\n",
        "from nltk.stem import WordNetLemmatizer\n",
        "import pandas as pd\n",
        "import nltk\n",
        "import numpy as np\n",
        "import matplotlib.pyplot as plt\n",
        "from keras.utils import to_categorical\n",
        "from sklearn.model_selection import train_test_split\n",
        "from google.colab import drive\n",
        "from keras.layers import Embedding\n",
        "from keras.layers import Dense, Input, GlobalMaxPooling1D\n",
        "from keras.layers import Conv1D, MaxPooling1D, Embedding, Flatten\n",
        "from keras.models import Model\n",
        "from tensorflow.keras import layers\n",
        "from tensorflow.keras.models import Sequential\n",
        "from tensorflow.keras.losses import BinaryCrossentropy\n",
        "from tensorflow.keras.optimizers import Adam\n",
        "from tensorflow.keras.models import *\n",
        "from tensorflow.keras.models import *\n",
        "from tensorflow.keras.layers import *\n",
        "from keras.utils import to_categorical\n",
        "from keras.optimizers import *\n",
        "drive.mount('/content/drive')\n",
        "nltk.download('punkt')\n",
        "nltk.download('stopwords')\n",
        "nltk.download('wordnet')"
      ]
    },
    {
      "cell_type": "code",
      "source": [
        "#reading data file\n",
        "data = pd.read_csv('/content/drive/MyDrive/file.csv')\n",
        "label_map = {'bad': 0, 'neutral': 1, 'good': 2}\n",
        "\n",
        "data['labels'] = data['labels'].map(label_map)"
      ],
      "metadata": {
        "id": "UUYdd8x1PyaE"
      },
      "execution_count": 4,
      "outputs": []
    },
    {
      "cell_type": "code",
      "source": [
        "print(data)"
      ],
      "metadata": {
        "id": "4DkxPXLePyjF",
        "colab": {
          "base_uri": "https://localhost:8080/"
        },
        "outputId": "ef2a649b-a991-444a-92e7-d0c66cd050c9"
      },
      "execution_count": 5,
      "outputs": [
        {
          "output_type": "stream",
          "name": "stdout",
          "text": [
            "        Unnamed: 0                                             tweets  labels\n",
            "0                0  ChatGPT: Optimizing Language Models for Dialog...       1\n",
            "1                1  Try talking with ChatGPT, our new AI system wh...       2\n",
            "2                2  ChatGPT: Optimizing Language Models for Dialog...       1\n",
            "3                3  THRILLED to share that ChatGPT, our new model ...       2\n",
            "4                4  As of 2 minutes ago, @OpenAI released their ne...       0\n",
            "...            ...                                                ...     ...\n",
            "219289      219289  Other Software Projects Are Now Trying to Repl...       0\n",
            "219290      219290  I asked #ChatGPT to write a #NYE Joke for SEOs...       2\n",
            "219291      219291  chatgpt is being disassembled until it can onl...       0\n",
            "219292      219292  2023 predictions by #chatGPT. Nothing really s...       0\n",
            "219293      219293   From ChatGPT, neat stuff https://t.co/qjjUF2Z2m0       1\n",
            "\n",
            "[219294 rows x 3 columns]\n"
          ]
        }
      ]
    },
    {
      "cell_type": "code",
      "source": [
        "x = data['tweets']\n",
        "y = data['labels']\n",
        "print(x)\n",
        "print('/////////////////////')\n",
        "print(y)"
      ],
      "metadata": {
        "id": "cZ66LkitPyoX",
        "colab": {
          "base_uri": "https://localhost:8080/"
        },
        "outputId": "efc2ee83-20d5-411b-f1c4-0712de3ff168"
      },
      "execution_count": 6,
      "outputs": [
        {
          "output_type": "stream",
          "name": "stdout",
          "text": [
            "0         ChatGPT: Optimizing Language Models for Dialog...\n",
            "1         Try talking with ChatGPT, our new AI system wh...\n",
            "2         ChatGPT: Optimizing Language Models for Dialog...\n",
            "3         THRILLED to share that ChatGPT, our new model ...\n",
            "4         As of 2 minutes ago, @OpenAI released their ne...\n",
            "                                ...                        \n",
            "219289    Other Software Projects Are Now Trying to Repl...\n",
            "219290    I asked #ChatGPT to write a #NYE Joke for SEOs...\n",
            "219291    chatgpt is being disassembled until it can onl...\n",
            "219292    2023 predictions by #chatGPT. Nothing really s...\n",
            "219293     From ChatGPT, neat stuff https://t.co/qjjUF2Z2m0\n",
            "Name: tweets, Length: 219294, dtype: object\n",
            "/////////////////////\n",
            "0         1\n",
            "1         2\n",
            "2         1\n",
            "3         2\n",
            "4         0\n",
            "         ..\n",
            "219289    0\n",
            "219290    2\n",
            "219291    0\n",
            "219292    0\n",
            "219293    1\n",
            "Name: labels, Length: 219294, dtype: int64\n"
          ]
        }
      ]
    },
    {
      "cell_type": "code",
      "source": [
        "for key, ID in label_map.items():\n",
        "  print(key, ID)"
      ],
      "metadata": {
        "id": "d9G6Qd1n6TJv",
        "colab": {
          "base_uri": "https://localhost:8080/"
        },
        "outputId": "499ff35e-53ce-4243-9c7c-ae1585c663de"
      },
      "execution_count": 7,
      "outputs": [
        {
          "output_type": "stream",
          "name": "stdout",
          "text": [
            "bad 0\n",
            "neutral 1\n",
            "good 2\n"
          ]
        }
      ]
    },
    {
      "cell_type": "code",
      "source": [
        "plt.hist(data['labels'], edgecolor='black',bins=20)\n",
        "plt.title(\"Points histogram\")\n",
        "plt.ylabel(\"labels\")\n",
        "plt.xlabel(\"tweets\")\n",
        "plt.show()"
      ],
      "metadata": {
        "id": "ods6yTjX9a17",
        "colab": {
          "base_uri": "https://localhost:8080/",
          "height": 472
        },
        "outputId": "1e087354-7731-40e5-efd0-5a8b479a56d2"
      },
      "execution_count": 8,
      "outputs": [
        {
          "output_type": "display_data",
          "data": {
            "text/plain": [
              "<Figure size 640x480 with 1 Axes>"
            ],
            "image/png": "[encoded data removed]"
          },
          "metadata": {}
        }
      ]
    },
    {
      "cell_type": "code",
      "source": [
        "#tokenization & padding\n",
        "MAX_SEQUENCE_LENGTH = 1000\n",
        "MAX_NUM_WORDS = 20000\n",
        "tokenizer = Tokenizer(num_words=MAX_NUM_WORDS)\n",
        "tokenizer.fit_on_texts(x)\n",
        "sequences = tokenizer.texts_to_sequences(x)\n",
        "word_index = tokenizer.word_index # the dictionary\n",
        "print('Found %s unique tokens.' % len(word_index)) #only top MAX_NUM_WORDS will be used to generate the sequences\n",
        "data = pad_sequences(sequences, maxlen=MAX_SEQUENCE_LENGTH)"
      ],
      "metadata": {
        "id": "maS_4SOaPyvS",
        "colab": {
          "base_uri": "https://localhost:8080/"
        },
        "outputId": "8d71ab54-fedd-46f8-daf5-b12109c2fe62"
      },
      "execution_count": 9,
      "outputs": [
        {
          "output_type": "stream",
          "name": "stdout",
          "text": [
            "Found 284178 unique tokens.\n"
          ]
        }
      ]
    },
    {
      "cell_type": "code",
      "source": [
        "labels_matrix = to_categorical(np.asarray(y))"
      ],
      "metadata": {
        "id": "Pcsg5addVoFU"
      },
      "execution_count": 10,
      "outputs": []
    },
    {
      "cell_type": "code",
      "source": [
        "x_train, x_val, y_train, y_val = train_test_split(data, labels_matrix, test_size=0.2, stratify=labels_matrix)\n",
        "print('Shape of training data:', x_train.shape)\n",
        "print('Shape of validation data:', x_val.shape)"
      ],
      "metadata": {
        "id": "pzXWsJzm7wDl",
        "colab": {
          "base_uri": "https://localhost:8080/"
        },
        "outputId": "a22618f5-f58b-4609-f4f0-b6d5a9eb74ed"
      },
      "execution_count": 11,
      "outputs": [
        {
          "output_type": "stream",
          "name": "stdout",
          "text": [
            "Shape of training data: (175435, 1000)\n",
            "Shape of validation data: (43859, 1000)\n"
          ]
        }
      ]
    },
    {
      "cell_type": "code",
      "source": [
        "VALIDATION_SPLIT = 0.2\n",
        "indices = np.arange(data.shape[0])\n",
        "np.random.shuffle(indices)\n",
        "data_shuffled = data[indices]\n",
        "labels_shuffled = labels_matrix[indices]\n",
        "nb_validation_samples = int(VALIDATION_SPLIT * data_shuffled.shape[0])\n",
        "x_train = data_shuffled[:-nb_validation_samples]\n",
        "y_train = labels_shuffled[:-nb_validation_samples]\n",
        "x_val = data_shuffled[-nb_validation_samples:]\n",
        "y_val = labels_shuffled[-nb_validation_samples:]\n",
        "print('Shape of training data: ',x_train.shape)\n",
        "print('Shape of testing data: ',x_val.shape)"
      ],
      "metadata": {
        "id": "LjHwLLYIVoIR",
        "colab": {
          "base_uri": "https://localhost:8080/"
        },
        "outputId": "9348dc6c-a6bb-48b7-cbb5-1863c99b6162"
      },
      "execution_count": 12,
      "outputs": [
        {
          "output_type": "stream",
          "name": "stdout",
          "text": [
            "Shape of training data:  (175436, 1000)\n",
            "Shape of testing data:  (43858, 1000)\n"
          ]
        }
      ]
    },
    {
      "cell_type": "markdown",
      "source": [],
      "metadata": {
        "id": "iyGKtHMs_DmQ"
      }
    },
    {
      "cell_type": "code",
      "source": [
        "EMBEDDING_DIM = 100\n",
        "print('Indexing word vectors.')\n",
        "embeddings_index = {}\n",
        "with open('/content/drive/MyDrive/glove.6B.100d.txt') as f:\n",
        "  for line in f:\n",
        "    values = line.split(sep=' ')\n",
        "    word = values[0]\n",
        "    coefs = np.asarray(values[1:], dtype='float32')\n",
        "    embeddings_index[word] = coefs\n",
        "print('Found %s word vectors.' % len(embeddings_index))"
      ],
      "metadata": {
        "id": "9UMKwCs9VoQW",
        "colab": {
          "base_uri": "https://localhost:8080/"
        },
        "outputId": "69d41a25-80bd-4f83-a7f3-28d5be8d4fac"
      },
      "execution_count": 13,
      "outputs": [
        {
          "output_type": "stream",
          "name": "stdout",
          "text": [
            "Indexing word vectors.\n",
            "Found 400000 word vectors.\n"
          ]
        }
      ]
    },
    {
      "cell_type": "code",
      "source": [
        "embedding_matrix = np.zeros((len(word_index) + 1, EMBEDDING_DIM))\n",
        "#+1 to include the zerors vector for non-existing words\n",
        "for word, i in word_index.items():\n",
        "  embedding_vector = embeddings_index.get(word)\n",
        "  if embedding_vector is not None:\n",
        "    # words not found in embedding index will be all-zeros.\n",
        "    embedding_matrix[i] = embedding_vector\n",
        "print ('Shape of Embedding Matrix: ',embedding_matrix.shape)"
      ],
      "metadata": {
        "id": "3Yfx5DyvC5wC",
        "colab": {
          "base_uri": "https://localhost:8080/"
        },
        "outputId": "f6af6d3d-8743-4d76-ea03-e69c61749a25"
      },
      "execution_count": 14,
      "outputs": [
        {
          "output_type": "stream",
          "name": "stdout",
          "text": [
            "Shape of Embedding Matrix:  (284179, 100)\n"
          ]
        }
      ]
    },
    {
      "cell_type": "code",
      "source": [
        "model_1 = Sequential()\n",
        "model_1.add(Embedding(len(word_index) + 1, 100, weights=[embedding_matrix], input_length=MAX_SEQUENCE_LENGTH,))\n",
        "model_1.add(layers.Dropout(0.5))\n",
        "model_1.add(Conv1D(16,3, activation='relu'))\n",
        "model_1.add(MaxPooling1D())\n",
        "model_1.add(Conv1D(16,3, activation='relu'))\n",
        "model_1.add(MaxPooling1D())\n",
        "model_1.add(layers.Flatten())\n"
      ],
      "metadata": {
        "id": "ARB5B43OqZr4"
      },
      "execution_count": 15,
      "outputs": []
    },
    {
      "cell_type": "code",
      "source": [
        "var = 0\n",
        "acc = []\n",
        "for i in range(0,4):\n",
        "  if(i == 0):\n",
        "    var = 128\n",
        "  elif(i == 1):\n",
        "    var = 256\n",
        "  elif(i == 2):\n",
        "    var = 512\n",
        "  else:\n",
        "    var = 1024\n",
        "  model_1.add(layers.Dense(var, activation='relu'))\n",
        "  model_1.add(layers.Dropout(0.5))\n",
        "  model_1.add(layers.Dense(3, activation='sigmoid'))\n",
        "  model_1.compile(loss='categorical_crossentropy',\n",
        "  optimizer='rmsprop',\n",
        "  metrics=['acc'])\n",
        "\n",
        "  history = model_1.fit(x_train, y_train, validation_data=(x_val, y_val), epochs=5, batch_size=128)\n",
        "  print('Acuracy on testing set:', i)\n",
        "  accuracyVar = model_1.evaluate(x_val,y_val)\n",
        "  acc.append(accuracyVar)\n",
        "print(acc)"
      ],
      "metadata": {
        "id": "uzOOBXRXGpsB",
        "outputId": "e18251ea-8ecd-41cc-f3cf-2d51a2d50dfe",
        "colab": {
          "base_uri": "https://localhost:8080/"
        }
      },
      "execution_count": 16,
      "outputs": [
        {
          "output_type": "stream",
          "name": "stdout",
          "text": [
            "Epoch 1/5\n",
            "1371/1371 [==============================] - 73s 46ms/step - loss: 0.8216 - acc: 0.6311 - val_loss: 0.6214 - val_acc: 0.7495\n",
            "Epoch 2/5\n",
            "1371/1371 [==============================] - 27s 19ms/step - loss: 0.6160 - acc: 0.7543 - val_loss: 0.4972 - val_acc: 0.8148\n",
            "Epoch 3/5\n",
            "1371/1371 [==============================] - 26s 19ms/step - loss: 0.5374 - acc: 0.7950 - val_loss: 0.4490 - val_acc: 0.8417\n",
            "Epoch 4/5\n",
            "1371/1371 [==============================] - 24s 17ms/step - loss: 0.4916 - acc: 0.8195 - val_loss: 0.4113 - val_acc: 0.8574\n",
            "Epoch 5/5\n",
            "1371/1371 [==============================] - 24s 17ms/step - loss: 0.4636 - acc: 0.8336 - val_loss: 0.4209 - val_acc: 0.8558\n",
            "Acuracy on testing set: 0\n",
            "1371/1371 [==============================] - 5s 4ms/step - loss: 0.4209 - acc: 0.8558\n",
            "Epoch 1/5\n",
            "1371/1371 [==============================] - 54s 38ms/step - loss: 0.4622 - acc: 0.8366 - val_loss: 0.3777 - val_acc: 0.8689\n",
            "Epoch 2/5\n",
            "1371/1371 [==============================] - 27s 20ms/step - loss: 0.4232 - acc: 0.8498 - val_loss: 0.3659 - val_acc: 0.8743\n",
            "Epoch 3/5\n",
            "1371/1371 [==============================] - 26s 19ms/step - loss: 0.4105 - acc: 0.8563 - val_loss: 0.3619 - val_acc: 0.8765\n",
            "Epoch 4/5\n",
            "1371/1371 [==============================] - 25s 18ms/step - loss: 0.4000 - acc: 0.8604 - val_loss: 0.3573 - val_acc: 0.8784\n",
            "Epoch 5/5\n",
            "1371/1371 [==============================] - 24s 18ms/step - loss: 0.3940 - acc: 0.8636 - val_loss: 0.3570 - val_acc: 0.8790\n",
            "Acuracy on testing set: 1\n",
            "1371/1371 [==============================] - 5s 4ms/step - loss: 0.3570 - acc: 0.8790\n",
            "Epoch 1/5\n",
            "1371/1371 [==============================] - 55s 38ms/step - loss: 0.4027 - acc: 0.8643 - val_loss: 0.3539 - val_acc: 0.8812\n",
            "Epoch 2/5\n",
            "1371/1371 [==============================] - 26s 19ms/step - loss: 0.3851 - acc: 0.8683 - val_loss: 0.3544 - val_acc: 0.8833\n",
            "Epoch 3/5\n",
            "1371/1371 [==============================] - 26s 19ms/step - loss: 0.3784 - acc: 0.8705 - val_loss: 0.3406 - val_acc: 0.8872\n",
            "Epoch 4/5\n",
            "1371/1371 [==============================] - 25s 18ms/step - loss: 0.3742 - acc: 0.8734 - val_loss: 0.3369 - val_acc: 0.8880\n",
            "Epoch 5/5\n",
            "1371/1371 [==============================] - 25s 18ms/step - loss: 0.3698 - acc: 0.8756 - val_loss: 0.3362 - val_acc: 0.8896\n",
            "Acuracy on testing set: 2\n",
            "1371/1371 [==============================] - 6s 4ms/step - loss: 0.3362 - acc: 0.8896\n",
            "Epoch 1/5\n",
            "1371/1371 [==============================] - 56s 39ms/step - loss: 0.3789 - acc: 0.8760 - val_loss: 0.3479 - val_acc: 0.8873\n",
            "Epoch 2/5\n",
            "1371/1371 [==============================] - 28s 20ms/step - loss: 0.3682 - acc: 0.8773 - val_loss: 0.3457 - val_acc: 0.8874\n",
            "Epoch 3/5\n",
            "1371/1371 [==============================] - 28s 20ms/step - loss: 0.3648 - acc: 0.8793 - val_loss: 0.3419 - val_acc: 0.8899\n",
            "Epoch 4/5\n",
            "1371/1371 [==============================] - 26s 19ms/step - loss: 0.3631 - acc: 0.8809 - val_loss: 0.3366 - val_acc: 0.8921\n",
            "Epoch 5/5\n",
            "1371/1371 [==============================] - 25s 18ms/step - loss: 0.3598 - acc: 0.8820 - val_loss: 0.3386 - val_acc: 0.8908\n",
            "Acuracy on testing set: 3\n",
            "1371/1371 [==============================] - 4s 3ms/step - loss: 0.3386 - acc: 0.8908\n",
            "[[0.420923113822937, 0.8557617664337158], [0.35698655247688293, 0.8790414333343506], [0.336192786693573, 0.8896210789680481], [0.33859768509864807, 0.8907610774040222]]\n"
          ]
        }
      ]
    },
    {
      "cell_type": "code",
      "source": [
        "# Plot accuracy vs trials\n",
        "accList = []\n",
        "for i in acc:\n",
        "  accList.append(i[1])\n",
        "x = range(len(accList))\n",
        "plt.plot(x, accList)\n",
        "custom_labels = ['trial 1', 'trial 2', 'trial 3', 'trial 4']\n",
        "plt.xticks(x, custom_labels)\n",
        "plt.title('Model accuracy over trials')\n",
        "plt.ylabel('Accuracy')\n",
        "plt.xlabel('Trials')\n",
        "plt.legend(['Train'], loc='upper left')\n",
        "plt.grid(True)\n",
        "plt.show()"
      ],
      "metadata": {
        "id": "OmunsrWXF4mU",
        "colab": {
          "base_uri": "https://localhost:8080/",
          "height": 472
        },
        "outputId": "724a5d4e-c405-457b-a026-d551b2f9bbd6"
      },
      "execution_count": 17,
      "outputs": [
        {
          "output_type": "display_data",
          "data": {
            "text/plain": [
              "<Figure size 640x480 with 1 Axes>"
            ],
            "image/png": "[encoded data removed]"
          },
          "metadata": {}
        }
      ]
    },
    {
      "cell_type": "code",
      "source": [
        "def prediction(model,tweet):\n",
        "  sequences_ = tokenizer.texts_to_sequences(tweet)\n",
        "  data_p = pad_sequences(sequences_, maxlen=MAX_SEQUENCE_LENGTH)\n",
        "  label_vec = model.predict(data_p) \n",
        "  label_num = np.argmax(label_vec)\n",
        "  label_type = \"\"\n",
        "  if(label_num == 0):\n",
        "    label_type = \"bad\"\n",
        "  elif(label_num == 1):\n",
        "    label_type = \"neutral\"\n",
        "  else:\n",
        "    label_type = \"good\"\n",
        "  return tweet , label_type"
      ],
      "metadata": {
        "id": "5-89_y-fEK3R"
      },
      "execution_count": 18,
      "outputs": []
    },
    {
      "cell_type": "code",
      "source": [
        "inputuser = input(\"enter a sentence: \")\n",
        "tweet, labeltype = prediction(model_1,[inputuser])\n",
        "print(tweet)\n",
        "print(labeltype)"
      ],
      "metadata": {
        "id": "zvL5c8-yV9oC",
        "colab": {
          "base_uri": "https://localhost:8080/"
        },
        "outputId": "7cdc8d4e-60ca-42bf-a45a-79caea300a70"
      },
      "execution_count": 19,
      "outputs": [
        {
          "output_type": "stream",
          "name": "stdout",
          "text": [
            "enter a sentence: chat gpt is useful and helpful and replying fast on our questions\n",
            "1/1 [==============================] - 0s 231ms/step\n",
            "['chat gpt is useful and helpful and replying fast on our questions']\n",
            "good\n"
          ]
        }
      ]
    },
    {
      "cell_type": "code",
      "source": [
        "\n",
        "model_2 = Sequential()\n",
        "model_2.add(Embedding(len(word_index) + 1, 100, weights=[embedding_matrix], input_length=MAX_SEQUENCE_LENGTH,))\n",
        "model_2.add(layers.Dropout(0.5))\n",
        "model_2.add(LSTM(16, return_sequences=True))\n",
        "model_2.add(layers.Dropout(0.5))\n",
        "model_2.add(LSTM(16))\n",
        "model_2.add(layers.Dropout(0.5))"
      ],
      "metadata": {
        "id": "Tu2yIANEALcO"
      },
      "execution_count": 20,
      "outputs": []
    },
    {
      "cell_type": "code",
      "source": [
        "var2 = 0\n",
        "accuracies = []\n",
        "for i in range(0,4):\n",
        "  if(i == 0):\n",
        "    var2 = 128\n",
        "  elif(i == 1):\n",
        "    var2 = 256\n",
        "  elif(i == 2):\n",
        "    var = 512\n",
        "  else:\n",
        "    var2 = 1024\n",
        "  model_2.add(layers.Dense(var2, activation='relu'))\n",
        "  model_2.add(layers.Dropout(0.5))\n",
        "  model_2.add(layers.Dense(3, activation='sigmoid'))\n",
        "  model_2.compile(loss='categorical_crossentropy',\n",
        "  optimizer='rmsprop',\n",
        "  metrics=['acc'])\n",
        "  history = model_2.fit(x_train, y_train, validation_data=(x_val, y_val), epochs=5, batch_size=128)\n",
        "  print('Acuracy on testing set:', i)\n",
        "  accuracyVar = model_2.evaluate(x_val,y_val)\n",
        "  accuracies.append(accuracyVar)\n",
        "print(accuracies)"
      ],
      "metadata": {
        "id": "xdMV3M6iANGP",
        "colab": {
          "base_uri": "https://localhost:8080/"
        },
        "outputId": "6d2c15e0-d278-44be-abbe-da3d69c9a866"
      },
      "execution_count": 21,
      "outputs": [
        {
          "output_type": "stream",
          "name": "stdout",
          "text": [
            "Epoch 1/5\n",
            "1371/1371 [==============================] - 115s 80ms/step - loss: 0.8326 - acc: 0.6212 - val_loss: 0.5797 - val_acc: 0.7526\n",
            "Epoch 2/5\n",
            "1371/1371 [==============================] - 102s 74ms/step - loss: 0.6123 - acc: 0.7468 - val_loss: 0.4636 - val_acc: 0.8307\n",
            "Epoch 3/5\n",
            "1371/1371 [==============================] - 80s 58ms/step - loss: 0.5178 - acc: 0.7993 - val_loss: 0.3905 - val_acc: 0.8604\n",
            "Epoch 4/5\n",
            "1371/1371 [==============================] - 79s 58ms/step - loss: 0.4616 - acc: 0.8276 - val_loss: 0.3449 - val_acc: 0.8775\n",
            "Epoch 5/5\n",
            "1371/1371 [==============================] - 82s 60ms/step - loss: 0.4197 - acc: 0.8465 - val_loss: 0.3215 - val_acc: 0.8876\n",
            "Acuracy on testing set: 0\n",
            "1371/1371 [==============================] - 29s 21ms/step - loss: 0.3215 - acc: 0.8876\n",
            "Epoch 1/5\n",
            "1371/1371 [==============================] - 109s 77ms/step - loss: 0.4064 - acc: 0.8581 - val_loss: 0.3022 - val_acc: 0.8965\n",
            "Epoch 2/5\n",
            "1371/1371 [==============================] - 86s 63ms/step - loss: 0.3620 - acc: 0.8698 - val_loss: 0.2878 - val_acc: 0.9017\n",
            "Epoch 3/5\n",
            "1371/1371 [==============================] - 80s 58ms/step - loss: 0.3438 - acc: 0.8785 - val_loss: 0.2845 - val_acc: 0.9051\n",
            "Epoch 4/5\n",
            "1371/1371 [==============================] - 83s 61ms/step - loss: 0.3282 - acc: 0.8848 - val_loss: 0.2754 - val_acc: 0.9056\n",
            "Epoch 5/5\n",
            "1371/1371 [==============================] - 82s 60ms/step - loss: 0.3186 - acc: 0.8891 - val_loss: 0.2685 - val_acc: 0.9110\n",
            "Acuracy on testing set: 1\n",
            "1371/1371 [==============================] - 29s 21ms/step - loss: 0.2685 - acc: 0.9110\n",
            "Epoch 1/5\n",
            "1371/1371 [==============================] - 115s 80ms/step - loss: 0.3351 - acc: 0.8903 - val_loss: 0.2661 - val_acc: 0.9095\n",
            "Epoch 2/5\n",
            "1371/1371 [==============================] - 83s 61ms/step - loss: 0.3059 - acc: 0.8945 - val_loss: 0.2597 - val_acc: 0.9134\n",
            "Epoch 3/5\n",
            "1371/1371 [==============================] - 82s 60ms/step - loss: 0.2962 - acc: 0.8987 - val_loss: 0.2641 - val_acc: 0.9050\n",
            "Epoch 4/5\n",
            "1371/1371 [==============================] - 84s 62ms/step - loss: 0.2871 - acc: 0.9023 - val_loss: 0.2501 - val_acc: 0.9177\n",
            "Epoch 5/5\n",
            "1371/1371 [==============================] - 83s 61ms/step - loss: 0.2826 - acc: 0.9048 - val_loss: 0.2490 - val_acc: 0.9196\n",
            "Acuracy on testing set: 2\n",
            "1371/1371 [==============================] - 29s 21ms/step - loss: 0.2490 - acc: 0.9196\n",
            "Epoch 1/5\n",
            "1371/1371 [==============================] - 116s 81ms/step - loss: 0.2886 - acc: 0.9059 - val_loss: 0.2445 - val_acc: 0.9177\n",
            "Epoch 2/5\n",
            "1371/1371 [==============================] - 85s 62ms/step - loss: 0.2752 - acc: 0.9076 - val_loss: 0.2485 - val_acc: 0.9166\n",
            "Epoch 3/5\n",
            "1371/1371 [==============================] - 81s 59ms/step - loss: 0.2705 - acc: 0.9099 - val_loss: 0.2377 - val_acc: 0.9228\n",
            "Epoch 4/5\n",
            "1371/1371 [==============================] - 84s 61ms/step - loss: 0.2653 - acc: 0.9122 - val_loss: 0.2409 - val_acc: 0.9224\n",
            "Epoch 5/5\n",
            "1371/1371 [==============================] - 85s 62ms/step - loss: 0.2626 - acc: 0.9133 - val_loss: 0.2382 - val_acc: 0.9238\n",
            "Acuracy on testing set: 3\n",
            "1371/1371 [==============================] - 29s 21ms/step - loss: 0.2382 - acc: 0.9238\n",
            "[[0.3215184211730957, 0.8876373767852783], [0.26852133870124817, 0.9109854698181152], [0.2489928901195526, 0.9196497797966003], [0.23815858364105225, 0.9237539172172546]]\n"
          ]
        }
      ]
    },
    {
      "cell_type": "code",
      "source": [
        "# Plot accuracy vs trials\n",
        "accList2 = []\n",
        "for i in accuracies:\n",
        "  accList2.append(i[1])\n",
        "x = range(len(accList2))\n",
        "plt.plot(x, accList2)\n",
        "custom_labels = ['trial 1', 'trial 2', 'trial 3', 'trial 4']\n",
        "plt.xticks(x, custom_labels)\n",
        "plt.title('Model2 accuracy over trials')\n",
        "plt.ylabel('Accuracy')\n",
        "plt.xlabel('Trials')\n",
        "plt.legend(['Train'], loc='upper left')\n",
        "plt.grid(True)\n",
        "plt.show()"
      ],
      "metadata": {
        "id": "KwjRJuJVHWHy",
        "colab": {
          "base_uri": "https://localhost:8080/",
          "height": 472
        },
        "outputId": "6ac1c8f4-3640-4b9a-c596-6f310abfda75"
      },
      "execution_count": 22,
      "outputs": [
        {
          "output_type": "display_data",
          "data": {
            "text/plain": [
              "<Figure size 640x480 with 1 Axes>"
            ],
            "image/png": "[encoded data removed]"
          },
          "metadata": {}
        }
      ]
    },
    {
      "cell_type": "code",
      "source": [
        "inputuser = input(\"enter a sentence: \")\n",
        "tweet, labeltype = prediction(model_2,[inputuser])\n",
        "print(tweet)\n",
        "print(labeltype)"
      ],
      "metadata": {
        "colab": {
          "base_uri": "https://localhost:8080/"
        },
        "id": "uncGPJJw_IoX",
        "outputId": "c7d05017-5731-4cab-b27e-7faf158d7bf9"
      },
      "execution_count": 23,
      "outputs": [
        {
          "output_type": "stream",
          "name": "stdout",
          "text": [
            "enter a sentence: ChatGPT is an advanced language model developed by OpenAI, designed to provide helpful and informative responses to a wide range of inquiries and conversations\n",
            "1/1 [==============================] - 1s 717ms/step\n",
            "['ChatGPT is an advanced language model developed by OpenAI, designed to provide helpful and informative responses to a wide range of inquiries and conversations']\n",
            "good\n"
          ]
        }
      ]
    }
  ]
}